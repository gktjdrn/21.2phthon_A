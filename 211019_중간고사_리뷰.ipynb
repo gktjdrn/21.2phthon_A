{
  "nbformat": 4,
  "nbformat_minor": 0,
  "metadata": {
    "colab": {
      "name": "211019 중간고사 리뷰.ipynb",
      "provenance": [],
      "authorship_tag": "ABX9TyPqW4Sewc4dko4DWzgoFvzF",
      "include_colab_link": true
    },
    "kernelspec": {
      "name": "python3",
      "display_name": "Python 3"
    },
    "language_info": {
      "name": "python"
    }
  },
  "cells": [
    {
      "cell_type": "markdown",
      "metadata": {
        "id": "view-in-github",
        "colab_type": "text"
      },
      "source": [
        "<a href=\"https://colab.research.google.com/github/gktjdrn/21.2phthon_A/blob/main/211019_%EC%A4%91%EA%B0%84%EA%B3%A0%EC%82%AC_%EB%A6%AC%EB%B7%B0.ipynb\" target=\"_parent\"><img src=\"https://colab.research.google.com/assets/colab-badge.svg\" alt=\"Open In Colab\"/></a>"
      ]
    },
    {
      "cell_type": "code",
      "metadata": {
        "colab": {
          "base_uri": "https://localhost:8080/",
          "height": 136
        },
        "id": "1N2lJoMe1SdO",
        "outputId": "9f687784-247d-4d28-baf5-d30f57a15e20"
      },
      "source": [
        "#1. 파이썬 변수로 사용할수 없는 것은?\n",
        "_num = 1\n",
        "num = 2\n",
        "num1 = 3\n",
        "#2num = 4\n",
        "#변수를 선언할 때 맨 앞에 숫자는 올 수 없다!\n",
        "n_um = 5"
      ],
      "execution_count": 1,
      "outputs": [
        {
          "output_type": "error",
          "ename": "SyntaxError",
          "evalue": "ignored",
          "traceback": [
            "\u001b[0;36m  File \u001b[0;32m\"<ipython-input-1-b00279079852>\"\u001b[0;36m, line \u001b[0;32m5\u001b[0m\n\u001b[0;31m    2num = 4\u001b[0m\n\u001b[0m       ^\u001b[0m\n\u001b[0;31mSyntaxError\u001b[0m\u001b[0;31m:\u001b[0m invalid syntax\n"
          ]
        }
      ]
    },
    {
      "cell_type": "code",
      "metadata": {
        "colab": {
          "base_uri": "https://localhost:8080/"
        },
        "id": "RN-C5uJ83Y37",
        "outputId": "d8114606-ec09-4e8d-ae63-58567488de64"
      },
      "source": [
        "#2. 각 변수에 저장된 최종 값은?\n",
        "sum = 0\n",
        "n1 = 10\n",
        "n1 = n1+10\n",
        "n2 = 20\n",
        "sum = n1+n2\n",
        "print(n1,n2,sum)"
      ],
      "execution_count": 2,
      "outputs": [
        {
          "output_type": "stream",
          "name": "stdout",
          "text": [
            "20 20 40\n"
          ]
        }
      ]
    },
    {
      "cell_type": "code",
      "metadata": {
        "colab": {
          "base_uri": "https://localhost:8080/"
        },
        "id": "stqmtmXU3twS",
        "outputId": "c2eefafe-3d0b-4627-f4c4-e1a77fd927bb"
      },
      "source": [
        "#3, 적절한 연산자 찾기\n",
        "print(17//4)\n",
        "print(17/4)\n",
        "print(17%4)"
      ],
      "execution_count": 4,
      "outputs": [
        {
          "output_type": "stream",
          "name": "stdout",
          "text": [
            "4\n",
            "4.25\n",
            "1\n"
          ]
        }
      ]
    },
    {
      "cell_type": "code",
      "metadata": {
        "colab": {
          "base_uri": "https://localhost:8080/"
        },
        "id": "o0EgBni-4lmr",
        "outputId": "b346d05c-e79f-4a3a-b6d5-8d3064f8f2c6"
      },
      "source": [
        "#4. 데이터 타입 찾기\n",
        "age = 17\n",
        "st = '나이'\n",
        "tu = (17,'나이')\n",
        "print(type(age))\n",
        "print(type(st))\n",
        "print(type(tu))\n",
        "print(type(type(age)))"
      ],
      "execution_count": 7,
      "outputs": [
        {
          "output_type": "stream",
          "name": "stdout",
          "text": [
            "<class 'int'>\n",
            "<class 'str'>\n",
            "<class 'tuple'>\n",
            "<class 'type'>\n"
          ]
        }
      ]
    },
    {
      "cell_type": "code",
      "metadata": {
        "colab": {
          "base_uri": "https://localhost:8080/"
        },
        "id": "0I6flqUf_1ZX",
        "outputId": "e2d9fcc9-26a1-4142-b9bb-caaea081ef5c"
      },
      "source": [
        "#5. 문자열 인덱싱\n",
        "s = 'Hello Hanyang!'\n",
        "print(s[5],s[-5])"
      ],
      "execution_count": 8,
      "outputs": [
        {
          "output_type": "stream",
          "name": "stdout",
          "text": [
            "  y\n"
          ]
        }
      ]
    },
    {
      "cell_type": "code",
      "metadata": {
        "colab": {
          "base_uri": "https://localhost:8080/"
        },
        "id": "Ist7tt_iAfKQ",
        "outputId": "410482b4-60fd-465e-b5a3-132196ff8031"
      },
      "source": [
        "#6. upper() 함수와 문자열 슬라이싱\n",
        "s = 'Hello Hanyang'\n",
        "print(s)\n",
        "s = s.upper()\n",
        "print(s)\n",
        "print(s[:8])\n",
        "print(s)"
      ],
      "execution_count": 9,
      "outputs": [
        {
          "output_type": "stream",
          "name": "stdout",
          "text": [
            "Hello Hanyang\n",
            "HELLO HANYANG\n",
            "HELLO HA\n",
            "HELLO HANYANG\n"
          ]
        }
      ]
    },
    {
      "cell_type": "code",
      "metadata": {
        "id": "PdRbFDCNA_1L"
      },
      "source": [
        "#7. 여러 데이터를 다루는 파이썬의 자료형에는 리스트, 튜플, 딕셔너리, 셋이 있다"
      ],
      "execution_count": 10,
      "outputs": []
    },
    {
      "cell_type": "code",
      "metadata": {
        "colab": {
          "base_uri": "https://localhost:8080/"
        },
        "id": "reAPI1QXBj9n",
        "outputId": "18005179-346f-4b08-df38-504eaef506d5"
      },
      "source": [
        "#8-9. 리스트\n",
        "a = ['a', 1, 'python', (1, 2), '2',[1, 2]]\n",
        "print(a[3])\n",
        "print(1 in a, 2 in a)"
      ],
      "execution_count": 14,
      "outputs": [
        {
          "output_type": "stream",
          "name": "stdout",
          "text": [
            "(1, 2)\n",
            "True False\n"
          ]
        }
      ]
    },
    {
      "cell_type": "code",
      "metadata": {
        "colab": {
          "base_uri": "https://localhost:8080/"
        },
        "id": "ERRDG-sGCASG",
        "outputId": "a172896a-bee9-4a04-8cf9-32317deb1bc9"
      },
      "source": [
        "#10. 리스트와 리스트함수\n",
        "nums = list(range(4))\n",
        "print(nums)\n",
        "nums.insert(3, 100)\n",
        "print(nums)"
      ],
      "execution_count": 19,
      "outputs": [
        {
          "output_type": "stream",
          "name": "stdout",
          "text": [
            "[0, 1, 2, 3]\n",
            "[0, 1, 2, 100, 3]\n"
          ]
        }
      ]
    },
    {
      "cell_type": "code",
      "metadata": {
        "colab": {
          "base_uri": "https://localhost:8080/"
        },
        "id": "JWDePuzJC5uV",
        "outputId": "0bab20b0-eb14-4913-abef-59240fb0eb22"
      },
      "source": [
        "#11. 튜플의 개념\n",
        "a = 100\n",
        "b = 200\n",
        "a, b = b, a\n",
        "print(a, b)"
      ],
      "execution_count": 20,
      "outputs": [
        {
          "output_type": "stream",
          "name": "stdout",
          "text": [
            "200 100\n"
          ]
        }
      ]
    },
    {
      "cell_type": "code",
      "metadata": {
        "colab": {
          "base_uri": "https://localhost:8080/"
        },
        "id": "R-xDK-ZCDxSm",
        "outputId": "131f1209-b01d-4daa-a94e-6737161a8c1e"
      },
      "source": [
        "#12. 딕셔너리\n",
        "a = {'han':1, 1:2, '1':3}\n",
        "a[1] = 'yang'\n",
        "print(a)"
      ],
      "execution_count": 21,
      "outputs": [
        {
          "output_type": "stream",
          "name": "stdout",
          "text": [
            "{'han': 1, 1: 'yang', '1': 3}\n"
          ]
        }
      ]
    },
    {
      "cell_type": "code",
      "metadata": {
        "colab": {
          "base_uri": "https://localhost:8080/"
        },
        "id": "DI5VfUAkEUS-",
        "outputId": "4b1de0e9-5a82-49a5-d62a-94d7abef623c"
      },
      "source": [
        "#13.셋\n",
        "a = set([1,1,1,1,1,1,1,1,1,1,1,2,3])\n",
        "print(a)\n",
        "b = set('Hello')\n",
        "print(b)"
      ],
      "execution_count": 24,
      "outputs": [
        {
          "output_type": "stream",
          "name": "stdout",
          "text": [
            "{1, 2, 3}\n",
            "{'o', 'l', 'H', 'e'}\n"
          ]
        }
      ]
    },
    {
      "cell_type": "code",
      "metadata": {
        "colab": {
          "base_uri": "https://localhost:8080/"
        },
        "id": "fJsQo5syFBow",
        "outputId": "bf05137b-75ea-4433-cc80-fe69df8c2dfc"
      },
      "source": [
        "#14-15.\n",
        "room = [[0,0,1,0,9],\n",
        "        [1,0,1,0,1],\n",
        "        [0,1,1,1,9]]\n",
        "mouse = room[0][2]\n",
        "\n",
        "if mouse == 1:\n",
        "  print('cheese')\n",
        "elif mouse == 9:\n",
        "  print('trap')\n",
        "else:\n",
        "  print(\"nothing\")"
      ],
      "execution_count": 26,
      "outputs": [
        {
          "output_type": "stream",
          "name": "stdout",
          "text": [
            "cheese\n"
          ]
        }
      ]
    },
    {
      "cell_type": "code",
      "metadata": {
        "colab": {
          "base_uri": "https://localhost:8080/"
        },
        "id": "dxbETXTnMfAT",
        "outputId": "90388fbd-e0e0-463c-909b-a2ad98e5a09e"
      },
      "source": [
        "#16-17\n",
        "a_score = 0\n",
        "b_score = 0\n",
        "\n",
        "for i in range(3, 9):\n",
        "  if i%2 == 0 and i%3 == 0:\n",
        "    continue\n",
        "  elif i%2 == 0:\n",
        "    a_score += 1\n",
        "  elif i%3 == 0:\n",
        "    b_score += 1\n",
        "print(a_score, b_score)"
      ],
      "execution_count": 29,
      "outputs": [
        {
          "output_type": "stream",
          "name": "stdout",
          "text": [
            "2 1\n"
          ]
        }
      ]
    },
    {
      "cell_type": "code",
      "metadata": {
        "colab": {
          "base_uri": "https://localhost:8080/"
        },
        "id": "niESdQo2N2TM",
        "outputId": "869348eb-1354-40a1-d563-8f26a69f57b4"
      },
      "source": [
        "#18-20\n",
        "print('======================피나치공======================')\n",
        "print('메뉴')\n",
        "print('메뉴번호 1 햄버거(300원) 2 피자(500원) 3 치킨(700원)')\n",
        "print('====================================================')\n",
        "\n",
        "money = int(input('투입 금액: '))\n",
        "menu = int(input('메뉴 번호: '))\n",
        "if menu == 1:\n",
        "  money -= 300\n",
        "elif menu == 2:\n",
        "  money -= 500\n",
        "elif menu == 3:\n",
        "  money -= 700\n",
        "\n",
        "if money < 0:\n",
        "  print(\"오류: 잔액이 부족합니다\")\n",
        "else:\n",
        "  won10000 = money//10000\n",
        "  won5000 = money%10000//5000\n",
        "  won1000 = money%5000//1000\n",
        "  won500 = money%1000//500\n",
        "  won100 = money%500//100\n",
        "  print('거스름돈: 10000원 {}개, 5000원 {}개 1000원 {}개, 500원 {}개 100원 {}개'.format(won10000, won5000, won1000, won500, won100))"
      ],
      "execution_count": 41,
      "outputs": [
        {
          "output_type": "stream",
          "name": "stdout",
          "text": [
            "======================피나치공======================\n",
            "메뉴\n",
            "메뉴번호 1 햄버거(300원) 2 피자(500원) 3 치킨(700원)\n",
            "====================================================\n",
            "투입 금액: 500000\n",
            "메뉴 번호: 3\n",
            "거스름돈: 10000원 49개, 5000원 1개 1000원 4개, 500원0개 100원 3개\n"
          ]
        }
      ]
    }
  ]
}