{
  "nbformat": 4,
  "nbformat_minor": 0,
  "metadata": {
    "colab": {
      "name": "211026_모듈.ipynb",
      "provenance": [],
      "authorship_tag": "ABX9TyMOZZYRFn/PUYUdNvTGTQj0",
      "include_colab_link": true
    },
    "kernelspec": {
      "name": "python3",
      "display_name": "Python 3"
    },
    "language_info": {
      "name": "python"
    }
  },
  "cells": [
    {
      "cell_type": "markdown",
      "metadata": {
        "id": "view-in-github",
        "colab_type": "text"
      },
      "source": [
        "<a href=\"https://colab.research.google.com/github/gktjdrn/21.2phthon_A/blob/main/211026_%EB%AA%A8%EB%93%88.ipynb\" target=\"_parent\"><img src=\"https://colab.research.google.com/assets/colab-badge.svg\" alt=\"Open In Colab\"/></a>"
      ]
    },
    {
      "cell_type": "code",
      "metadata": {
        "id": "qthrFz4l2LKw"
      },
      "source": [
        "def GuGu(n):\n",
        "  for i in range(1,10):\n",
        "    print(f'{n} * {i} = ', n*i)"
      ],
      "execution_count": null,
      "outputs": []
    },
    {
      "cell_type": "code",
      "metadata": {
        "colab": {
          "base_uri": "https://localhost:8080/"
        },
        "id": "lhqqkH-J2qmO",
        "outputId": "158dd4d4-3933-4fb8-b681-6b83789d5450"
      },
      "source": [
        "GuGu(3)"
      ],
      "execution_count": null,
      "outputs": [
        {
          "output_type": "stream",
          "name": "stdout",
          "text": [
            "3 * 1 =  3\n",
            "3 * 2 =  6\n",
            "3 * 3 =  9\n",
            "3 * 4 =  12\n",
            "3 * 5 =  15\n",
            "3 * 6 =  18\n",
            "3 * 7 =  21\n",
            "3 * 8 =  24\n",
            "3 * 9 =  27\n"
          ]
        }
      ]
    },
    {
      "cell_type": "code",
      "metadata": {
        "id": "IwnqpN9U3CaQ"
      },
      "source": [
        "import math\n",
        "def circle_area(n):\n",
        "  return (n/2)**2 * math.pi"
      ],
      "execution_count": null,
      "outputs": []
    },
    {
      "cell_type": "code",
      "metadata": {
        "colab": {
          "base_uri": "https://localhost:8080/"
        },
        "id": "9kTnMdiI6Tao",
        "outputId": "75e5b7c0-aae8-496e-8d8d-01efd251f27f"
      },
      "source": [
        "print(circle_area(50))"
      ],
      "execution_count": null,
      "outputs": [
        {
          "output_type": "stream",
          "name": "stdout",
          "text": [
            "1963.4954084936207\n"
          ]
        }
      ]
    },
    {
      "cell_type": "markdown",
      "metadata": {
        "id": "OOSW7aoNCSoJ"
      },
      "source": [
        "### **학습목표**\n",
        "1. 모듈의 이해 및 모듈 import"
      ]
    },
    {
      "cell_type": "code",
      "metadata": {
        "colab": {
          "base_uri": "https://localhost:8080/"
        },
        "id": "GKjDc8EyCQQU",
        "outputId": "2cd5b5d4-3986-424c-b476-0b3529234eb7"
      },
      "source": [
        "pipi = math.pi\n",
        "fact = math.factorial(5)\n",
        "root = math.sqrt(25)\n",
        "print(pipi)\n",
        "print(fact)\n",
        "print(root)"
      ],
      "execution_count": null,
      "outputs": [
        {
          "output_type": "stream",
          "name": "stdout",
          "text": [
            "3.141592653589793\n",
            "120\n",
            "5.0\n"
          ]
        }
      ]
    },
    {
      "cell_type": "code",
      "metadata": {
        "colab": {
          "base_uri": "https://localhost:8080/"
        },
        "id": "A2YdFT_5D79-",
        "outputId": "f603126c-e9af-4ca6-ff3b-c87cba9f3ce6"
      },
      "source": [
        "import random\n",
        "\n",
        "print(\"주사위값: \", random.randint(1,6))\n",
        "print(\"주사위값: \", random.randrange(1,7))\n",
        "rockpaper = ['가위', '바위', '보']\n",
        "season = ['봄', '여름', '가을', '겨울']\n",
        "print('가위바위보: ', random.choice(rockpaper))\n",
        "print('계절: ', random.choice(season))"
      ],
      "execution_count": null,
      "outputs": [
        {
          "output_type": "stream",
          "name": "stdout",
          "text": [
            "주사위값:  3\n",
            "주사위값:  2\n",
            "가위바위보:  가위\n",
            "계절:  가을\n"
          ]
        }
      ]
    },
    {
      "cell_type": "code",
      "metadata": {
        "colab": {
          "base_uri": "https://localhost:8080/"
        },
        "id": "0XUoCFcUEPAH",
        "outputId": "c9db65c5-27a4-4804-e9ad-9bf517e0be62"
      },
      "source": [
        "from datetime import datetime\n",
        "today = datetime.now()\n",
        "\n",
        "print('현재 날짜와 시각: ', today)\n",
        "print(f'{today.year}년 {today.month}월 {today.day}일')\n",
        "print(f'{today.hour}시 {today.minute}분 {today.second}초')\n",
        "\n",
        "xmas = datetime(2021,12,25,0,0,0)\n",
        "k_sat = datetime(2023,11,16,0,0,0)\n",
        "print('xmas: ', xmas)\n",
        "print(f'성탄절까지: {abs(today - xmas)}')\n",
        "print(f'수능까지: {abs(today - k_sat)}')"
      ],
      "execution_count": null,
      "outputs": [
        {
          "output_type": "stream",
          "name": "stdout",
          "text": [
            "현재 날짜와 시각:  2021-10-26 01:08:54.619971\n",
            "2021년 10월 26일\n",
            "1시 8분 54초\n",
            "xmas:  2021-12-25 00:00:00\n",
            "성탄절까지: 59 days, 22:51:05.380029\n",
            "수능까지: 750 days, 22:51:05.380029\n"
          ]
        }
      ]
    },
    {
      "cell_type": "code",
      "metadata": {
        "id": "oCKWOmmoHJcD"
      },
      "source": [
        ""
      ],
      "execution_count": null,
      "outputs": []
    }
  ]
}