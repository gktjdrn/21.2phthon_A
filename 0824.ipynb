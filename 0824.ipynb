{
  "nbformat": 4,
  "nbformat_minor": 0,
  "metadata": {
    "colab": {
      "name": "Untitled1.ipynb",
      "provenance": [],
      "collapsed_sections": [],
      "toc_visible": true,
      "authorship_tag": "ABX9TyO1thFj1LZHoi0JN8WMvGLb",
      "include_colab_link": true
    },
    "kernelspec": {
      "display_name": "Python 3",
      "name": "python3"
    },
    "language_info": {
      "name": "python"
    }
  },
  "cells": [
    {
      "cell_type": "markdown",
      "metadata": {
        "id": "view-in-github",
        "colab_type": "text"
      },
      "source": [
        "<a href=\"https://colab.research.google.com/github/gktjdrn/21.2phthon_A/blob/main/0824.ipynb\" target=\"_parent\"><img src=\"https://colab.research.google.com/assets/colab-badge.svg\" alt=\"Open In Colab\"/></a>"
      ]
    },
    {
      "cell_type": "markdown",
      "metadata": {
        "id": "BQZ7n6aVhn5g"
      },
      "source": [
        "## **학습목표**\n",
        "1. python 언어에서 변수의 의미를 이해하기\n",
        "2. 기본 데이터 타입 선언하기\n",
        "- int, float, str, bool"
      ]
    },
    {
      "cell_type": "markdown",
      "metadata": {
        "id": "c6TqEBLvd_CC"
      },
      "source": [
        "## **=대입 연산자**\n",
        "- 오른쪽 수식이나 값을 계산한 후 왼쪽에 명시된 변수에 해당 값을 대입\n",
        "- 변수는 해당 값을 가지게 된다."
      ]
    },
    {
      "cell_type": "code",
      "metadata": {
        "id": "QS2qWgbAiZuX"
      },
      "source": [
        "a = 10 #int\n",
        "b = 11.4 #float"
      ],
      "execution_count": 5,
      "outputs": []
    },
    {
      "cell_type": "markdown",
      "metadata": {
        "id": "nC_L26ezipG3"
      },
      "source": [
        "## **주석**\n",
        "- 코드에서 #으로 시작하는 뒷부분\n",
        "- python에서는 소스코드를 실행할 때 #을 만나면 무시\n",
        "- 개발자(사람)이 보기 위한 용도로 사용"
      ]
    },
    {
      "cell_type": "code",
      "metadata": {
        "id": "dW8iPPVhi5e2"
      },
      "source": [
        "# this line is very important\n",
        "# so don't delete those line\n",
        "\n",
        "math = 76"
      ],
      "execution_count": 6,
      "outputs": []
    },
    {
      "cell_type": "markdown",
      "metadata": {
        "id": "t49IE7Ztdh1F"
      },
      "source": [
        "## **변수값 확인 법**\n",
        "- print() 함수 사용\n",
        "- 코드에 마지막에 변수 값을 위치시킨 후 실행\n"
      ]
    },
    {
      "cell_type": "code",
      "metadata": {
        "colab": {
          "background_save": true,
          "base_uri": "https://localhost:8080/"
        },
        "id": "Q1HjWWM5eYbF",
        "outputId": "491c9d33-8473-4c88-dfa8-770a5a243149"
      },
      "source": [
        "a = 10\n",
        "b = 11.4\n",
        "a\n",
        "b\n",
        "print(a)\n",
        "print(a, b)"
      ],
      "execution_count": null,
      "outputs": [
        {
          "name": "stdout",
          "output_type": "stream",
          "text": [
            "10\n",
            "10 11.4\n"
          ]
        },
        {
          "data": {
            "text/plain": [
              "11.4"
            ]
          },
          "execution_count": null,
          "metadata": {},
          "output_type": "execute_result"
        }
      ]
    },
    {
      "cell_type": "markdown",
      "metadata": {
        "id": "KT4BCzeljI4S"
      },
      "source": [
        ""
      ]
    },
    {
      "cell_type": "markdown",
      "metadata": {
        "id": "WyaXcVn_lJkn"
      },
      "source": [
        "## **print 함수**\n",
        "- 함수란 특정 기능을 반복적으로 호출하여 사용가능한 코드 블럭\n",
        "- .로 여러 변수를 한줄에 출력\n",
        "- 기본적으로 한칸 띄어쓰기 후 출력"
      ]
    },
    {
      "cell_type": "code",
      "metadata": {
        "colab": {
          "base_uri": "https://localhost:8080/"
        },
        "id": "gThjWqG-lVJX",
        "outputId": "31a3c6d7-3247-40f9-e190-2eda670d0d52"
      },
      "source": [
        "print(a, b)\n",
        "print(a, 10, 200, b)\n",
        "print(\"1교시 python\")"
      ],
      "execution_count": 7,
      "outputs": [
        {
          "output_type": "stream",
          "text": [
            "10 11.4\n",
            "10 10 200 11.4\n",
            "1교시 python\n"
          ],
          "name": "stdout"
        }
      ]
    },
    {
      "cell_type": "markdown",
      "metadata": {
        "id": "isvbqcS3lh9m"
      },
      "source": [
        "### **print 함수 설정**\n",
        "- sep(구분자): 각 변수 삿이에서 구분해주는 역할\n",
        "- end: 마지막에 출력할 문자열"
      ]
    },
    {
      "cell_type": "code",
      "metadata": {
        "colab": {
          "base_uri": "https://localhost:8080/"
        },
        "id": "4SSZD4_alxm2",
        "outputId": "94a827cb-729e-46fc-fcde-f6e242b4ba10"
      },
      "source": [
        "print(a, b, 200, \"성구\", sep='#', end='!!')"
      ],
      "execution_count": 8,
      "outputs": [
        {
          "output_type": "stream",
          "text": [
            "10#11.4#200#성구!!"
          ],
          "name": "stdout"
        }
      ]
    }
  ]
}