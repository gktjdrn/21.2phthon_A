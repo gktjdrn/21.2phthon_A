{
  "nbformat": 4,
  "nbformat_minor": 0,
  "metadata": {
    "colab": {
      "name": "Untitled1.ipynb",
      "provenance": [],
      "collapsed_sections": [],
      "authorship_tag": "ABX9TyP5SX/LRm7JA3lrZgbgRbvc",
      "include_colab_link": true
    },
    "kernelspec": {
      "display_name": "Python 3",
      "name": "python3"
    },
    "language_info": {
      "name": "python"
    }
  },
  "cells": [
    {
      "cell_type": "markdown",
      "metadata": {
        "id": "view-in-github",
        "colab_type": "text"
      },
      "source": [
        "<a href=\"https://colab.research.google.com/github/gktjdrn/21.2phthon_A/blob/main/ch_1%EB%B3%80%EC%88%98%EC%99%80%EC%9E%90%EB%A3%8C%ED%98%95.ipynb\" target=\"_parent\"><img src=\"https://colab.research.google.com/assets/colab-badge.svg\" alt=\"Open In Colab\"/></a>"
      ]
    },
    {
      "cell_type": "markdown",
      "metadata": {
        "id": "BQZ7n6aVhn5g"
      },
      "source": [
        "## **학습목표**\n",
        "1. python 언어에서 변수의 의미를 이해하기\n",
        "2. 기본 데이터 타입 선언하기\n",
        "- int, float, str, bool"
      ]
    },
    {
      "cell_type": "markdown",
      "metadata": {
        "id": "c6TqEBLvd_CC"
      },
      "source": [
        "## **=대입 연산자**\n",
        "- 오른쪽 수식이나 값을 계산한 후 왼쪽에 명시된 변수에 해당 값을 대입\n",
        "- 변수는 해당 값을 가지게 된다."
      ]
    },
    {
      "cell_type": "code",
      "metadata": {
        "id": "QS2qWgbAiZuX"
      },
      "source": [
        "a = 10 #int\n",
        "b = 11.4 #float"
      ],
      "execution_count": null,
      "outputs": []
    },
    {
      "cell_type": "markdown",
      "metadata": {
        "id": "nC_L26ezipG3"
      },
      "source": [
        "## **주석**\n",
        "- 코드에서 #으로 시작하는 뒷부분\n",
        "- python에서는 소스코드를 실행할 때 #을 만나면 무시\n",
        "- 개발자(사람)이 보기 위한 용도로 사용"
      ]
    },
    {
      "cell_type": "code",
      "metadata": {
        "id": "dW8iPPVhi5e2"
      },
      "source": [
        "# this line is very important\n",
        "# so don't delete those line\n",
        "\n",
        "math = 76"
      ],
      "execution_count": null,
      "outputs": []
    },
    {
      "cell_type": "markdown",
      "metadata": {
        "id": "t49IE7Ztdh1F"
      },
      "source": [
        "## **변수값 확인 법**\n",
        "- print() 함수 사용\n",
        "- 코드에 마지막에 변수 값을 위치시킨 후 실행\n"
      ]
    },
    {
      "cell_type": "code",
      "metadata": {
        "colab": {
          "background_save": true,
          "base_uri": "https://localhost:8080/"
        },
        "id": "Q1HjWWM5eYbF",
        "outputId": "491c9d33-8473-4c88-dfa8-770a5a243149"
      },
      "source": [
        "a = 10\n",
        "b = 11.4\n",
        "a\n",
        "b\n",
        "print(a)\n",
        "print(a, b)"
      ],
      "execution_count": null,
      "outputs": [
        {
          "name": "stdout",
          "output_type": "stream",
          "text": [
            "10\n",
            "10 11.4\n"
          ]
        },
        {
          "data": {
            "text/plain": [
              "11.4"
            ]
          },
          "execution_count": null,
          "metadata": {},
          "output_type": "execute_result"
        }
      ]
    },
    {
      "cell_type": "markdown",
      "metadata": {
        "id": "KT4BCzeljI4S"
      },
      "source": [
        ""
      ]
    },
    {
      "cell_type": "markdown",
      "metadata": {
        "id": "WyaXcVn_lJkn"
      },
      "source": [
        "## **print 함수**\n",
        "- 함수란 특정 기능을 반복적으로 호출하여 사용가능한 코드 블럭\n",
        "- .로 여러 변수를 한줄에 출력\n",
        "- 기본적으로 한칸 띄어쓰기 후 출력"
      ]
    },
    {
      "cell_type": "code",
      "metadata": {
        "colab": {
          "base_uri": "https://localhost:8080/"
        },
        "id": "gThjWqG-lVJX",
        "outputId": "31a3c6d7-3247-40f9-e190-2eda670d0d52"
      },
      "source": [
        "print(a, b)\n",
        "print(a, 10, 200, b)\n",
        "print(\"1교시 python\")"
      ],
      "execution_count": null,
      "outputs": [
        {
          "output_type": "stream",
          "text": [
            "10 11.4\n",
            "10 10 200 11.4\n",
            "1교시 python\n"
          ],
          "name": "stdout"
        }
      ]
    },
    {
      "cell_type": "markdown",
      "metadata": {
        "id": "isvbqcS3lh9m"
      },
      "source": [
        "### **print 함수 설정**\n",
        "- sep(구분자): 각 변수 삿이에서 구분해주는 역할\n",
        "- end: 마지막에 출력할 문자열"
      ]
    },
    {
      "cell_type": "code",
      "metadata": {
        "colab": {
          "base_uri": "https://localhost:8080/"
        },
        "id": "4SSZD4_alxm2",
        "outputId": "94a827cb-729e-46fc-fcde-f6e242b4ba10"
      },
      "source": [
        "print(a, b, 200, \"성구\", sep='#', end='!!')"
      ],
      "execution_count": null,
      "outputs": [
        {
          "output_type": "stream",
          "text": [
            "10#11.4#200#성구!!"
          ],
          "name": "stdout"
        }
      ]
    },
    {
      "cell_type": "markdown",
      "metadata": {
        "id": "XSD0G3ab2wgp"
      },
      "source": [
        "##**변수 이름 규칙**\n",
        "\n",
        "- 시작을 영소 대소문자._ 구성 가능\n",
        "- BUT 숫자는 불가능\n",
        "- 일반적으로 변수를 표현할 때 정확하고 간결한 이름을 사용하는 것이 원칙\n",
        "\n"
      ]
    },
    {
      "cell_type": "code",
      "metadata": {
        "id": "MBDzhbvg3OYI"
      },
      "source": [
        "abcABC = 1000\n",
        "___abc = 100\n",
        "ACBV = 100\n",
        "\n",
        "###3V3N = 10"
      ],
      "execution_count": 2,
      "outputs": []
    },
    {
      "cell_type": "markdown",
      "metadata": {
        "id": "EaJPUuRF3ugo"
      },
      "source": [
        "###**예약어(키워드)**\n",
        "\n",
        "- python에서 미리 선점해서 사용중인 키워드\n",
        "- import, for, while, if, elif 등..."
      ]
    },
    {
      "cell_type": "code",
      "metadata": {
        "id": "r6cl9ucb36HM"
      },
      "source": [
        "_for = 100\n",
        "###for = 120"
      ],
      "execution_count": 6,
      "outputs": []
    },
    {
      "cell_type": "markdown",
      "metadata": {
        "id": "AUUF4LK24mCu"
      },
      "source": [
        "###**기본 데이터 타입**\n",
        "\n",
        "- 정수(int)\n",
        "- 실수(float)\n",
        "- 문자열(string)\n",
        "- 불리언(boolean)\n",
        "\n",
        "**type() 함수**\n",
        "  - 해당 변수, 값의 타입(type)을 얻고자 할때 사용"
      ]
    },
    {
      "cell_type": "code",
      "metadata": {
        "colab": {
          "base_uri": "https://localhost:8080/"
        },
        "id": "ltR1YMMd5EXU",
        "outputId": "78a69934-0df7-44be-a7e2-936109c04117"
      },
      "source": [
        "a = 100\n",
        "b = 11.4\n",
        "c = \"오늘은 비가 와요\"\n",
        "d = a>b\n",
        "print(type(a), a, type(b), b, type(c), c, type(d), d)"
      ],
      "execution_count": 9,
      "outputs": [
        {
          "output_type": "stream",
          "text": [
            "<class 'int'> 100 <class 'float'> 11.4 <class 'str'> 오늘은 비가 와요 <class 'bool'> True\n"
          ],
          "name": "stdout"
        }
      ]
    },
    {
      "cell_type": "markdown",
      "metadata": {
        "id": "wOm1gJM76ra0"
      },
      "source": [
        "### **None**\n",
        "\n",
        "- 아무런 값을 갖지 않을 때 사용\n",
        "- 일반적으로 변수가 초기각ㅄ을 갖지 않게 하기 위해 사용\n",
        "- NULL과 같은 의미"
      ]
    },
    {
      "cell_type": "code",
      "metadata": {
        "colab": {
          "base_uri": "https://localhost:8080/"
        },
        "id": "GOQwMlqk7Flt",
        "outputId": "b4311534-fc79-49bd-af66-6c0ac8394cc8"
      },
      "source": [
        "c = None\n",
        "print(c)"
      ],
      "execution_count": 10,
      "outputs": [
        {
          "output_type": "stream",
          "text": [
            "None\n"
          ],
          "name": "stdout"
        }
      ]
    },
    {
      "cell_type": "markdown",
      "metadata": {
        "id": "nMUEjMoS7aTJ"
      },
      "source": [
        "##**비교연산자**\n",
        "\n",
        "- 프로그래밍에서 비교를 할 경우 사용한다.\n",
        "- >,<(작다, 크다)\n",
        "- <=,>= (작거나 같다, 크거나 같다)\n",
        "- == (같다)\n",
        "- != (같지 않다)\n",
        "- 비교 연산자 결과는 Bool(참과 거짓)"
      ]
    },
    {
      "cell_type": "code",
      "metadata": {
        "colab": {
          "base_uri": "https://localhost:8080/"
        },
        "id": "i9mG8_9n8R3R",
        "outputId": "986c42d6-7698-45a3-f466-329504dcbb7b"
      },
      "source": [
        "a = 5\n",
        "b = 4\n",
        "\n",
        "print(a>b) #True\n",
        "print(a<b) #False\n",
        "print(a>=b) #True\n",
        "print(a<=b) #False\n",
        "print(a==b) #False\n",
        "print(a!=b) #True"
      ],
      "execution_count": 12,
      "outputs": [
        {
          "output_type": "stream",
          "text": [
            "True\n",
            "False\n",
            "True\n",
            "False\n",
            "False\n",
            "True\n"
          ],
          "name": "stdout"
        }
      ]
    },
    {
      "cell_type": "markdown",
      "metadata": {
        "id": "2_Z0b9TDBBob"
      },
      "source": [
        "## **기본연산자**"
      ]
    },
    {
      "cell_type": "code",
      "metadata": {
        "colab": {
          "base_uri": "https://localhost:8080/"
        },
        "id": "RXIyjxAxBZpR",
        "outputId": "eb09c7db-0c1c-4dcd-c142-5b1e7e3b08aa"
      },
      "source": [
        "print(a+b) # a = 5, b = 4\n",
        "print(a-b)\n",
        "print(a*b)\n",
        "print(a/b)\n",
        "print(a//b)\n",
        "print(a%b)\n",
        "print(a**b)"
      ],
      "execution_count": 18,
      "outputs": [
        {
          "output_type": "stream",
          "text": [
            "9\n",
            "1\n",
            "20\n",
            "1.25\n",
            "1\n",
            "1\n",
            "625\n"
          ],
          "name": "stdout"
        }
      ]
    },
    {
      "cell_type": "markdown",
      "metadata": {
        "id": "nGgLmbgCCNmA"
      },
      "source": [
        "## **연산자 우선 순위**\n",
        "- 기본적으로 수학의 연산자와 동일\n",
        "- 강제로 연산을 먼저하기 위해서는 ()를 사용"
      ]
    },
    {
      "cell_type": "code",
      "metadata": {
        "colab": {
          "base_uri": "https://localhost:8080/"
        },
        "id": "4ZkF0g9KChJz",
        "outputId": "275f8ccd-80eb-4f50-eac9-b5042f93e4e0"
      },
      "source": [
        "print(a+b*2) #a=5, b=4\n",
        "print((a+b)*2)\n",
        "print(2* a**3)"
      ],
      "execution_count": 19,
      "outputs": [
        {
          "output_type": "stream",
          "text": [
            "13\n",
            "18\n",
            "250\n"
          ],
          "name": "stdout"
        }
      ]
    }
  ]
}