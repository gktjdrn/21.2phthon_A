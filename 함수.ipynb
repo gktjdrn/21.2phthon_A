{
  "nbformat": 4,
  "nbformat_minor": 0,
  "metadata": {
    "colab": {
      "name": "함수.ipynb",
      "provenance": [],
      "collapsed_sections": [],
      "authorship_tag": "ABX9TyNI2FCmH0HMB1DmDOdA5Zjx",
      "include_colab_link": true
    },
    "kernelspec": {
      "name": "python3",
      "display_name": "Python 3"
    },
    "language_info": {
      "name": "python"
    }
  },
  "cells": [
    {
      "cell_type": "markdown",
      "metadata": {
        "id": "view-in-github",
        "colab_type": "text"
      },
      "source": [
        "<a href=\"https://colab.research.google.com/github/gktjdrn/21.2phthon_A/blob/main/%ED%95%A8%EC%88%98.ipynb\" target=\"_parent\"><img src=\"https://colab.research.google.com/assets/colab-badge.svg\" alt=\"Open In Colab\"/></a>"
      ]
    },
    {
      "cell_type": "markdown",
      "metadata": {
        "id": "QXUaXGEYQx_W"
      },
      "source": [
        "### **학습목표**\n",
        "\n",
        "1. 함수의 이해\n",
        "2. 함수 구현 및 사용 숙지\n",
        "\n",
        "- 표준함수(내장함수)\n",
        "- 사용자 정의 함수"
      ]
    },
    {
      "cell_type": "markdown",
      "metadata": {
        "id": "HTXyN6qZRNQj"
      },
      "source": [
        "**함수란?**\n",
        "\n",
        "- 예를 들어, print(), range()\n",
        "- range(3,9)-> 3,4,5,6,7,8\n",
        "괄호 안에 입력 값을 주어서 수를 반환\n",
        "- 이미 구현된 함수: 내장 함수(built-in function)"
      ]
    },
    {
      "cell_type": "markdown",
      "metadata": {
        "id": "h7YloqfSc3O-"
      },
      "source": [
        "# **수학 관련된 내장함수**\n",
        "1. abs() : 절댓값\n",
        "2. 진수 변환\n",
        "- bin(): 10진수를 2진수로\n",
        "- oct(): 10진수를 8진수로\n",
        "- hex(): 10진수를 16진수로\n",
        "3. 연산\n",
        "- sum(): 합계\n",
        "- pow(): 거듭제곱\n",
        "- max(): 최댓값\n",
        "- min(): 최솟값\n",
        "4. 반올림\n",
        "- round()"
      ]
    },
    {
      "cell_type": "code",
      "metadata": {
        "colab": {
          "base_uri": "https://localhost:8080/"
        },
        "id": "xNJVy_jDdomt",
        "outputId": "8367a801-080c-4e38-ba2b-d7c5b04871ab"
      },
      "source": [
        "print('-10의 절댒값', abs(-10))\n",
        "print(\"128의 2진수\", bin(128))\n",
        "print(\"17의 8진수\", oct(17))\n",
        "print(\"521521의 17진수\", hex(521521))"
      ],
      "execution_count": null,
      "outputs": [
        {
          "output_type": "stream",
          "name": "stdout",
          "text": [
            "-10의 절댒값 10\n",
            "128의 2진수 0b10000000\n",
            "17의 8진수 0o21\n",
            "521521의 17진수 0x7f531\n"
          ]
        }
      ]
    },
    {
      "cell_type": "code",
      "metadata": {
        "colab": {
          "base_uri": "https://localhost:8080/"
        },
        "id": "Cp-E8twIeRYF",
        "outputId": "9be0a89d-7adf-4592-d62b-e0cd90cb44f5"
      },
      "source": [
        "num = [2,4,8,1,7,3]\n",
        "alpha = ['a','A','c','P','p']\n",
        "\n",
        "print(\"가장 큰 값: \", max(num))\n",
        "print(\"가장 작은 값: \", min(num))\n",
        "print(\"가장 큰 값: \", max(alpha))\n",
        "print(\"가장 작은 값: \", min(alpha))\n",
        "print(\"리스트 합계: \", sum(num))\n",
        "#print(\"문자열 합계: \", sum(alpha))\n",
        "print(\"pow(3의 4승): \", pow(3, 4))\n",
        "pi = 3.1415926535\n",
        "print(\"pi의 소수점 6의 자리까지 반올림: \", round(pi))"
      ],
      "execution_count": null,
      "outputs": [
        {
          "output_type": "stream",
          "name": "stdout",
          "text": [
            "가장 큰 값:  8\n",
            "가장 작은 값:  1\n",
            "가장 큰 값:  p\n",
            "가장 작은 값:  A\n",
            "리스트 합계:  25\n",
            "pow(3의 4승):  81\n",
            "pi의 소수점 6의 자리까지 반올림:  3\n"
          ]
        }
      ]
    },
    {
      "cell_type": "markdown",
      "metadata": {
        "id": "u54NgPQmhXwl"
      },
      "source": [
        "## **문자열 관련 내장함수**\n",
        "- input(): ()안에 문자열 매개변수를 출력한 후 입력을 받는다.\n",
        "- format(): 일부 내용을 치환하여 내가 의도한 형식의 문자열 출력하는 함수"
      ]
    },
    {
      "cell_type": "code",
      "metadata": {
        "colab": {
          "base_uri": "https://localhost:8080/",
          "height": 556
        },
        "id": "cYUlREqehVyG",
        "outputId": "924215f5-0201-4268-c27e-b6a886519128"
      },
      "source": [
        "id = input(\"아이디를 입력하세요: \")\n",
        "password = input(\"비밀번호를 입력하세요: \")\n",
        "\n",
        "print(\"{}님! 가입을 환영합니다!\".format(id))"
      ],
      "execution_count": null,
      "outputs": [
        {
          "output_type": "error",
          "ename": "KeyboardInterrupt",
          "evalue": "ignored",
          "traceback": [
            "\u001b[0;31m---------------------------------------------------------------------------\u001b[0m",
            "\u001b[0;31mKeyboardInterrupt\u001b[0m                         Traceback (most recent call last)",
            "\u001b[0;32m/usr/local/lib/python3.7/dist-packages/ipykernel/kernelbase.py\u001b[0m in \u001b[0;36m_input_request\u001b[0;34m(self, prompt, ident, parent, password)\u001b[0m\n\u001b[1;32m    728\u001b[0m             \u001b[0;32mtry\u001b[0m\u001b[0;34m:\u001b[0m\u001b[0;34m\u001b[0m\u001b[0;34m\u001b[0m\u001b[0m\n\u001b[0;32m--> 729\u001b[0;31m                 \u001b[0mident\u001b[0m\u001b[0;34m,\u001b[0m \u001b[0mreply\u001b[0m \u001b[0;34m=\u001b[0m \u001b[0mself\u001b[0m\u001b[0;34m.\u001b[0m\u001b[0msession\u001b[0m\u001b[0;34m.\u001b[0m\u001b[0mrecv\u001b[0m\u001b[0;34m(\u001b[0m\u001b[0mself\u001b[0m\u001b[0;34m.\u001b[0m\u001b[0mstdin_socket\u001b[0m\u001b[0;34m,\u001b[0m \u001b[0;36m0\u001b[0m\u001b[0;34m)\u001b[0m\u001b[0;34m\u001b[0m\u001b[0;34m\u001b[0m\u001b[0m\n\u001b[0m\u001b[1;32m    730\u001b[0m             \u001b[0;32mexcept\u001b[0m \u001b[0mException\u001b[0m\u001b[0;34m:\u001b[0m\u001b[0;34m\u001b[0m\u001b[0;34m\u001b[0m\u001b[0m\n",
            "\u001b[0;32m/usr/local/lib/python3.7/dist-packages/jupyter_client/session.py\u001b[0m in \u001b[0;36mrecv\u001b[0;34m(self, socket, mode, content, copy)\u001b[0m\n\u001b[1;32m    802\u001b[0m         \u001b[0;32mtry\u001b[0m\u001b[0;34m:\u001b[0m\u001b[0;34m\u001b[0m\u001b[0;34m\u001b[0m\u001b[0m\n\u001b[0;32m--> 803\u001b[0;31m             \u001b[0mmsg_list\u001b[0m \u001b[0;34m=\u001b[0m \u001b[0msocket\u001b[0m\u001b[0;34m.\u001b[0m\u001b[0mrecv_multipart\u001b[0m\u001b[0;34m(\u001b[0m\u001b[0mmode\u001b[0m\u001b[0;34m,\u001b[0m \u001b[0mcopy\u001b[0m\u001b[0;34m=\u001b[0m\u001b[0mcopy\u001b[0m\u001b[0;34m)\u001b[0m\u001b[0;34m\u001b[0m\u001b[0;34m\u001b[0m\u001b[0m\n\u001b[0m\u001b[1;32m    804\u001b[0m         \u001b[0;32mexcept\u001b[0m \u001b[0mzmq\u001b[0m\u001b[0;34m.\u001b[0m\u001b[0mZMQError\u001b[0m \u001b[0;32mas\u001b[0m \u001b[0me\u001b[0m\u001b[0;34m:\u001b[0m\u001b[0;34m\u001b[0m\u001b[0;34m\u001b[0m\u001b[0m\n",
            "\u001b[0;32m/usr/local/lib/python3.7/dist-packages/zmq/sugar/socket.py\u001b[0m in \u001b[0;36mrecv_multipart\u001b[0;34m(self, flags, copy, track)\u001b[0m\n\u001b[1;32m    624\u001b[0m         \"\"\"\n\u001b[0;32m--> 625\u001b[0;31m         \u001b[0mparts\u001b[0m \u001b[0;34m=\u001b[0m \u001b[0;34m[\u001b[0m\u001b[0mself\u001b[0m\u001b[0;34m.\u001b[0m\u001b[0mrecv\u001b[0m\u001b[0;34m(\u001b[0m\u001b[0mflags\u001b[0m\u001b[0;34m,\u001b[0m \u001b[0mcopy\u001b[0m\u001b[0;34m=\u001b[0m\u001b[0mcopy\u001b[0m\u001b[0;34m,\u001b[0m \u001b[0mtrack\u001b[0m\u001b[0;34m=\u001b[0m\u001b[0mtrack\u001b[0m\u001b[0;34m)\u001b[0m\u001b[0;34m]\u001b[0m\u001b[0;34m\u001b[0m\u001b[0;34m\u001b[0m\u001b[0m\n\u001b[0m\u001b[1;32m    626\u001b[0m         \u001b[0;31m# have first part already, only loop while more to receive\u001b[0m\u001b[0;34m\u001b[0m\u001b[0;34m\u001b[0m\u001b[0;34m\u001b[0m\u001b[0m\n",
            "\u001b[0;32mzmq/backend/cython/socket.pyx\u001b[0m in \u001b[0;36mzmq.backend.cython.socket.Socket.recv\u001b[0;34m()\u001b[0m\n",
            "\u001b[0;32mzmq/backend/cython/socket.pyx\u001b[0m in \u001b[0;36mzmq.backend.cython.socket.Socket.recv\u001b[0;34m()\u001b[0m\n",
            "\u001b[0;32mzmq/backend/cython/socket.pyx\u001b[0m in \u001b[0;36mzmq.backend.cython.socket._recv_copy\u001b[0;34m()\u001b[0m\n",
            "\u001b[0;32m/usr/local/lib/python3.7/dist-packages/zmq/backend/cython/checkrc.pxd\u001b[0m in \u001b[0;36mzmq.backend.cython.checkrc._check_rc\u001b[0;34m()\u001b[0m\n",
            "\u001b[0;31mKeyboardInterrupt\u001b[0m: ",
            "\nDuring handling of the above exception, another exception occurred:\n",
            "\u001b[0;31mKeyboardInterrupt\u001b[0m                         Traceback (most recent call last)",
            "\u001b[0;32m<ipython-input-18-40c7954ed3aa>\u001b[0m in \u001b[0;36m<module>\u001b[0;34m()\u001b[0m\n\u001b[0;32m----> 1\u001b[0;31m \u001b[0mid\u001b[0m \u001b[0;34m=\u001b[0m \u001b[0minput\u001b[0m\u001b[0;34m(\u001b[0m\u001b[0;34m\"아이디를 입력하세요: \"\u001b[0m\u001b[0;34m)\u001b[0m\u001b[0;34m\u001b[0m\u001b[0;34m\u001b[0m\u001b[0m\n\u001b[0m\u001b[1;32m      2\u001b[0m \u001b[0mpassword\u001b[0m \u001b[0;34m=\u001b[0m \u001b[0minput\u001b[0m\u001b[0;34m(\u001b[0m\u001b[0;34m\"비밀번호를 입력하세요: \"\u001b[0m\u001b[0;34m)\u001b[0m\u001b[0;34m\u001b[0m\u001b[0;34m\u001b[0m\u001b[0m\n\u001b[1;32m      3\u001b[0m \u001b[0;34m\u001b[0m\u001b[0m\n\u001b[1;32m      4\u001b[0m \u001b[0mprint\u001b[0m\u001b[0;34m(\u001b[0m\u001b[0;34m\"{}님! 가입을 환영합니다!\"\u001b[0m\u001b[0;34m.\u001b[0m\u001b[0mformat\u001b[0m\u001b[0;34m(\u001b[0m\u001b[0mid\u001b[0m\u001b[0;34m)\u001b[0m\u001b[0;34m)\u001b[0m\u001b[0;34m\u001b[0m\u001b[0;34m\u001b[0m\u001b[0m\n",
            "\u001b[0;32m/usr/local/lib/python3.7/dist-packages/ipykernel/kernelbase.py\u001b[0m in \u001b[0;36mraw_input\u001b[0;34m(self, prompt)\u001b[0m\n\u001b[1;32m    702\u001b[0m             \u001b[0mself\u001b[0m\u001b[0;34m.\u001b[0m\u001b[0m_parent_ident\u001b[0m\u001b[0;34m,\u001b[0m\u001b[0;34m\u001b[0m\u001b[0;34m\u001b[0m\u001b[0m\n\u001b[1;32m    703\u001b[0m             \u001b[0mself\u001b[0m\u001b[0;34m.\u001b[0m\u001b[0m_parent_header\u001b[0m\u001b[0;34m,\u001b[0m\u001b[0;34m\u001b[0m\u001b[0;34m\u001b[0m\u001b[0m\n\u001b[0;32m--> 704\u001b[0;31m             \u001b[0mpassword\u001b[0m\u001b[0;34m=\u001b[0m\u001b[0;32mFalse\u001b[0m\u001b[0;34m,\u001b[0m\u001b[0;34m\u001b[0m\u001b[0;34m\u001b[0m\u001b[0m\n\u001b[0m\u001b[1;32m    705\u001b[0m         )\n\u001b[1;32m    706\u001b[0m \u001b[0;34m\u001b[0m\u001b[0m\n",
            "\u001b[0;32m/usr/local/lib/python3.7/dist-packages/ipykernel/kernelbase.py\u001b[0m in \u001b[0;36m_input_request\u001b[0;34m(self, prompt, ident, parent, password)\u001b[0m\n\u001b[1;32m    732\u001b[0m             \u001b[0;32mexcept\u001b[0m \u001b[0mKeyboardInterrupt\u001b[0m\u001b[0;34m:\u001b[0m\u001b[0;34m\u001b[0m\u001b[0;34m\u001b[0m\u001b[0m\n\u001b[1;32m    733\u001b[0m                 \u001b[0;31m# re-raise KeyboardInterrupt, to truncate traceback\u001b[0m\u001b[0;34m\u001b[0m\u001b[0;34m\u001b[0m\u001b[0;34m\u001b[0m\u001b[0m\n\u001b[0;32m--> 734\u001b[0;31m                 \u001b[0;32mraise\u001b[0m \u001b[0mKeyboardInterrupt\u001b[0m\u001b[0;34m\u001b[0m\u001b[0;34m\u001b[0m\u001b[0m\n\u001b[0m\u001b[1;32m    735\u001b[0m             \u001b[0;32melse\u001b[0m\u001b[0;34m:\u001b[0m\u001b[0;34m\u001b[0m\u001b[0;34m\u001b[0m\u001b[0m\n\u001b[1;32m    736\u001b[0m                 \u001b[0;32mbreak\u001b[0m\u001b[0;34m\u001b[0m\u001b[0;34m\u001b[0m\u001b[0m\n",
            "\u001b[0;31mKeyboardInterrupt\u001b[0m: "
          ]
        }
      ]
    },
    {
      "cell_type": "code",
      "metadata": {
        "colab": {
          "base_uri": "https://localhost:8080/"
        },
        "id": "ChqIp0T7obd2",
        "outputId": "014fbe88-2ee6-45a6-eedc-0d326fdeb75e"
      },
      "source": [
        "import random\n",
        "\n",
        "print('가위바위보 게임')\n",
        "print('게임은 2번 이길 때까지 진행됩니다')\n",
        "score = 0\n",
        "a = 0\n",
        "\n",
        "while True:\n",
        "  a+=1\n",
        "  print(\"{}라운드\".format(a))\n",
        "  print(\"가위바위보! {가위:1 바위:2 보:3}\")\n",
        "  user = int(input(\"입력하세요: \"))\n",
        "  com = random.randint(1,3)\n",
        "  \n",
        "  if com == user:\n",
        "    print('비겼습니다.')\n",
        "  \n",
        "  elif com == 1 and user == 2:\n",
        "    print('이겼습니다.')\n",
        "    score+=1\n",
        "  elif com == 2 and user == 3:\n",
        "    print(\"이겼습니다.\")\n",
        "    score+=1\n",
        "  elif com == 3 and user == 1:\n",
        "    print(\"이겼습니다.\")\n",
        "    score+=1\n",
        "  \n",
        "  else:\n",
        "    print(\"졌습니다.\")\n",
        "  \n",
        "  if com == 1:\n",
        "    com = '가위'\n",
        "  elif com == 2:\n",
        "    com = '바위'\n",
        "  else:\n",
        "    com = '보'\n",
        "  if user == 1:\n",
        "    user = '가위'\n",
        "  elif user == 2:\n",
        "    user = '바위'\n",
        "  else:\n",
        "    user = '보' \n",
        "  \n",
        "  print(f'컴퓨터: {com}, 당신: {user}')\n",
        "\n",
        "  if score == 2:\n",
        "    print('끝났습니다.')\n",
        "    break"
      ],
      "execution_count": 3,
      "outputs": [
        {
          "output_type": "stream",
          "name": "stdout",
          "text": [
            "가위바위보 게임\n",
            "게임은 2번 이길 때까지 진행됩니다\n",
            "1라운드\n",
            "가위바위보! {가위:1 바위:2 보:3}\n",
            "입력하세요: 3\n",
            "이겼습니다.\n",
            "컴퓨터: 바위, 당신: 보\n",
            "2라운드\n",
            "가위바위보! {가위:1 바위:2 보:3}\n",
            "입력하세요: 3\n",
            "비겼습니다.\n",
            "컴퓨터: 보, 당신: 보\n",
            "3라운드\n",
            "가위바위보! {가위:1 바위:2 보:3}\n",
            "입력하세요: 3\n",
            "이겼습니다.\n",
            "컴퓨터: 바위, 당신: 보\n",
            "끝났습니다.\n"
          ]
        }
      ]
    },
    {
      "cell_type": "code",
      "metadata": {
        "id": "hJTubTlowVRG"
      },
      "source": [
        ""
      ],
      "execution_count": null,
      "outputs": []
    }
  ]
}