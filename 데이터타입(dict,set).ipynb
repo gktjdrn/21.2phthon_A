{
  "nbformat": 4,
  "nbformat_minor": 0,
  "metadata": {
    "colab": {
      "name": "데이터타입(dict,set).ipynb",
      "provenance": [],
      "include_colab_link": true
    },
    "kernelspec": {
      "name": "python3",
      "display_name": "Python 3"
    },
    "language_info": {
      "name": "python"
    }
  },
  "cells": [
    {
      "cell_type": "markdown",
      "metadata": {
        "id": "view-in-github",
        "colab_type": "text"
      },
      "source": [
        "<a href=\"https://colab.research.google.com/github/gktjdrn/21.2phthon_A/blob/main/%EB%8D%B0%EC%9D%B4%ED%84%B0%ED%83%80%EC%9E%85(dict%2Cset).ipynb\" target=\"_parent\"><img src=\"https://colab.research.google.com/assets/colab-badge.svg\" alt=\"Open In Colab\"/></a>"
      ]
    },
    {
      "cell_type": "markdown",
      "metadata": {
        "id": "iTqG1h25yThK"
      },
      "source": [
        "# **학습목표**\n",
        "- dictionary, set에 대해 이해하기"
      ]
    },
    {
      "cell_type": "markdown",
      "metadata": {
        "id": "eizMA2Rcyg1H"
      },
      "source": [
        "# **dictionary**\n",
        "- 키와 값을 갖는 데이터 구조\n",
        "- 키는 내부적으로 hash값으로 저장\n",
        "- 순서를 따지지 않음"
      ]
    },
    {
      "cell_type": "code",
      "metadata": {
        "colab": {
          "base_uri": "https://localhost:8080/"
        },
        "id": "ja5ohPs2zNcj",
        "outputId": "9c655bf0-5383-46cd-fb39-5d07dcd206a2"
      },
      "source": [
        "a = { 'Korea' : 'Seoul',\n",
        "      'Canada' : 'Ottawa',\n",
        "      'USA' : 'washington D.C' }\n",
        "b = {0:1, 1:6, 7:9, 8:10}\n",
        "print(a[\"Korea\"])\n",
        "# print(a[']apan')\n",
        "print(b[0])"
      ],
      "execution_count": null,
      "outputs": [
        {
          "output_type": "stream",
          "name": "stdout",
          "text": [
            "Seoul\n",
            "1\n"
          ]
        }
      ]
    },
    {
      "cell_type": "markdown",
      "metadata": {
        "id": "Hybk9UBp0dNc"
      },
      "source": [
        "### **항목 추가 및 변경**\n",
        "- 기존에 키가 존재하면, 새로운 값으로 업데이트\n",
        "- 기존에 키가 존재하지 않으면 새로운 키 값으로 생성"
      ]
    },
    {
      "cell_type": "code",
      "metadata": {
        "colab": {
          "base_uri": "https://localhost:8080/"
        },
        "id": "OQUzek1L02ob",
        "outputId": "6dbe7698-e1e7-485f-8f29-e4d96a1ff64d"
      },
      "source": [
        "a['Japan'] = 'Tokyo'\n",
        "a['Japan'] = 'Osaka'\n",
        "a['China'] = 'Beijing'\n",
        "\n",
        "print(a)"
      ],
      "execution_count": null,
      "outputs": [
        {
          "output_type": "stream",
          "name": "stdout",
          "text": [
            "{'Korea': 'Seoul', 'Canada': 'Ottawa', 'USA': 'washington D.C', 'Japan': 'Osaka', 'China': 'Beijing'}\n"
          ]
        }
      ]
    },
    {
      "cell_type": "markdown",
      "metadata": {
        "id": "ZrHfBPQ51cJL"
      },
      "source": [
        "- update()\n",
        " - 두 딕셔너리를 병합\n",
        " - 겹치는 키가 없다면, 전달되는 값이 업데이트한다."
      ]
    },
    {
      "cell_type": "code",
      "metadata": {
        "colab": {
          "base_uri": "https://localhost:8080/"
        },
        "id": "mSx1yMLx1qer",
        "outputId": "5c2bd584-2da7-4bd3-b367-30ace5d750ba"
      },
      "source": [
        "a = {'a' : 'apple', 'b' : 'bus', 'c' : 'car'}\n",
        "b = {'a' : 'ant', 'd' : 'dog', 'e' : 'egg'}\n",
        "\n",
        "a.update(b)\n",
        "print(a)"
      ],
      "execution_count": null,
      "outputs": [
        {
          "output_type": "stream",
          "name": "stdout",
          "text": [
            "{'a': 'ant', 'b': 'bus', 'c': 'car', 'd': 'dog', 'e': 'egg'}\n"
          ]
        }
      ]
    },
    {
      "cell_type": "markdown",
      "metadata": {
        "id": "FL1nCzVV2QKx"
      },
      "source": [
        "### **key삭제**\n",
        "- def 키워드\n",
        "- pop 함수 이용"
      ]
    },
    {
      "cell_type": "code",
      "metadata": {
        "colab": {
          "base_uri": "https://localhost:8080/"
        },
        "id": "XNJ5kYaM2XIp",
        "outputId": "43557f9c-c063-4d9c-910c-d8f04c5ea260"
      },
      "source": [
        "a = {'a' : 1, 'b' : 2, 'c' : 3}\n",
        "print(a)\n",
        "\n",
        "d = a.pop('b')\n",
        "print(a)\n",
        "print(d)\n",
        "\n",
        "del a['c']\n",
        "print(a)"
      ],
      "execution_count": null,
      "outputs": [
        {
          "output_type": "stream",
          "name": "stdout",
          "text": [
            "{'a': 1, 'b': 2, 'c': 3}\n",
            "{'a': 1, 'c': 3}\n",
            "2\n",
            "{'a': 1}\n"
          ]
        }
      ]
    },
    {
      "cell_type": "markdown",
      "metadata": {
        "id": "Q-W9vaqC3D9f"
      },
      "source": [
        "## clear()\n",
        "- 딕셔너리 값을 모두 초기화\n"
      ]
    },
    {
      "cell_type": "code",
      "metadata": {
        "colab": {
          "base_uri": "https://localhost:8080/"
        },
        "id": "BMoM5Ik_3Siu",
        "outputId": "1b6b47db-7f11-4720-f712-4a1371381202"
      },
      "source": [
        "a['add']=3\n",
        "print(a)\n",
        "a.clear()\n",
        "print(a)"
      ],
      "execution_count": null,
      "outputs": [
        {
          "output_type": "stream",
          "name": "stdout",
          "text": [
            "{'add': 3}\n",
            "{}\n"
          ]
        }
      ]
    },
    {
      "cell_type": "markdown",
      "metadata": {
        "id": "hclX39ly8yc-"
      },
      "source": [
        "## **in**\n",
        "- key 값 존재 확인\n"
      ]
    },
    {
      "cell_type": "code",
      "metadata": {
        "colab": {
          "base_uri": "https://localhost:8080/"
        },
        "id": "rExn58DS9GFQ",
        "outputId": "9bd308db-2918-43ae-973a-989aeb8b0fb2"
      },
      "source": [
        "a = {'a' : 1,'b' : 2, 'c' : 3}\n",
        "print(2 in a)\n",
        "print('a' in a)"
      ],
      "execution_count": null,
      "outputs": [
        {
          "output_type": "stream",
          "name": "stdout",
          "text": [
            "False\n",
            "True\n"
          ]
        }
      ]
    },
    {
      "cell_type": "markdown",
      "metadata": {
        "id": "z276gKWt9jzp"
      },
      "source": [
        "- dict[key]로 접근, 키가 없는 경우에는 에러\n",
        "- get() 함수로 접근, 키가 없는 경우에는 프로그램 실행 -> None 반환"
      ]
    },
    {
      "cell_type": "code",
      "metadata": {
        "colab": {
          "base_uri": "https://localhost:8080/"
        },
        "id": "87NYFWnT9WOu",
        "outputId": "eabc48e9-ed37-4438-9b99-ce8d067c8513"
      },
      "source": [
        "a = {'a' : 1,'b' : 2, 'c' : 3}\n",
        "# print(a['d'])\n",
        "print(a.get('d'))"
      ],
      "execution_count": null,
      "outputs": [
        {
          "output_type": "stream",
          "name": "stdout",
          "text": [
            "None\n"
          ]
        }
      ]
    },
    {
      "cell_type": "markdown",
      "metadata": {
        "id": "KoYsNKDn-evd"
      },
      "source": [
        "### **모든 keys,values 접근**\n",
        "- key()- 키만 반환\n",
        "- values()- 값만 반환\n",
        "- items() - 키,값의 튜플을 반환 "
      ]
    },
    {
      "cell_type": "code",
      "metadata": {
        "colab": {
          "base_uri": "https://localhost:8080/"
        },
        "id": "O9c_icyC_RQe",
        "outputId": "7424d9c3-9da3-4ace-9376-5ff416b47bc1"
      },
      "source": [
        "a = {'a' : 1,'b' : 2, 'c' : 3}\n",
        "print(a)\n",
        "print(a.keys())\n",
        "print(a.values())\n",
        "print(a.items())"
      ],
      "execution_count": null,
      "outputs": [
        {
          "output_type": "stream",
          "name": "stdout",
          "text": [
            "{'a': 1, 'b': 2, 'c': 3}\n",
            "dict_keys(['a', 'b', 'c'])\n",
            "dict_values([1, 2, 3])\n",
            "dict_items([('a', 1), ('b', 2), ('c', 3)])\n"
          ]
        }
      ]
    },
    {
      "cell_type": "markdown",
      "metadata": {
        "id": "EMjLpRr1AD5Q"
      },
      "source": [
        "## **set**\n",
        "- dictionary에서 key만 활용한 데이터 구조 ()\n",
        "- 중복이 허용되지 않는 구조"
      ]
    },
    {
      "cell_type": "code",
      "metadata": {
        "colab": {
          "base_uri": "https://localhost:8080/"
        },
        "id": "fDe2YgE6AOxb",
        "outputId": "0cca0fd8-779b-4833-c69f-5f89f31ca262"
      },
      "source": [
        "a = {1,1,1,2,5,2,2,2,6,2}\n",
        "print(a)"
      ],
      "execution_count": null,
      "outputs": [
        {
          "output_type": "stream",
          "name": "stdout",
          "text": [
            "{1, 2, 5, 6}\n"
          ]
        }
      ]
    },
    {
      "cell_type": "code",
      "metadata": {
        "colab": {
          "base_uri": "https://localhost:8080/"
        },
        "id": "5ZD3usZ1Ap14",
        "outputId": "92937b0f-4370-4dd1-a9c8-7d495123d08e"
      },
      "source": [
        "a = [1,2,3,4,5,3,5,2,2,4,2,3,4,2,4,2,5,2,5,2,4,4,3]\n",
        "print(a)\n",
        "\n",
        "b = set(a)\n",
        "print(b)"
      ],
      "execution_count": null,
      "outputs": [
        {
          "output_type": "stream",
          "name": "stdout",
          "text": [
            "[1, 2, 3, 4, 5, 3, 5, 2, 2, 4, 2, 3, 4, 2, 4, 2, 5, 2, 5, 2, 4, 4, 3]\n",
            "{1, 2, 3, 4, 5}\n"
          ]
        }
      ]
    },
    {
      "cell_type": "code",
      "metadata": {
        "colab": {
          "base_uri": "https://localhost:8080/"
        },
        "id": "YuJ1dRYcBh5o",
        "outputId": "cd3a8258-21cf-4de9-eab2-76bbd0e20e9c"
      },
      "source": [
        "a = {1,2,3}\n",
        "b = {2,3,4}\n",
        "\n",
        "print(a.union(b)) # 합집합\n",
        "print(a.intersection(b)) #교집합\n",
        "print(a.difference(b)) # 차집합"
      ],
      "execution_count": null,
      "outputs": [
        {
          "output_type": "stream",
          "name": "stdout",
          "text": [
            "{1, 2, 3, 4}\n",
            "{2, 3}\n",
            "{1}\n"
          ]
        }
      ]
    }
  ]
}