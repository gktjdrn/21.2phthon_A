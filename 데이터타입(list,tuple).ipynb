{
  "nbformat": 4,
  "nbformat_minor": 0,
  "metadata": {
    "colab": {
      "name": "데이터타입(list,tuple).ipynb",
      "provenance": [],
      "authorship_tag": "ABX9TyPp6HoEQMceW0A9bM64vEzP",
      "include_colab_link": true
    },
    "kernelspec": {
      "name": "python3",
      "display_name": "Python 3"
    },
    "language_info": {
      "name": "python"
    }
  },
  "cells": [
    {
      "cell_type": "markdown",
      "metadata": {
        "id": "view-in-github",
        "colab_type": "text"
      },
      "source": [
        "<a href=\"https://colab.research.google.com/github/gktjdrn/21.2phthon_A/blob/main/%EB%8D%B0%EC%9D%B4%ED%84%B0%ED%83%80%EC%9E%85(list%2Ctuple).ipynb\" target=\"_parent\"><img src=\"https://colab.research.google.com/assets/colab-badge.svg\" alt=\"Open In Colab\"/></a>"
      ]
    },
    {
      "cell_type": "markdown",
      "metadata": {
        "id": "pWLwP34g8u0i"
      },
      "source": [
        "## **학습목표**\n",
        "- 리스트(list)와 튜플(tuple)에 대해 이해하기\n",
        "- 딕셔너리(dict)와 셋(set)에 대해 이해하기"
      ]
    },
    {
      "cell_type": "markdown",
      "metadata": {
        "id": "A5zpg4Vt9Bie"
      },
      "source": [
        "### **리스트(list)와 튜플(tuple)**\n",
        "\n",
        "- 여러 개의 값을 담을 수 있는 데이터 구조\n",
        "- list : 생성한 후에 변경이 가능(mutable)\n",
        "- tuple : 생성한 후에 변경 불가능(immutable)"
      ]
    },
    {
      "cell_type": "code",
      "metadata": {
        "colab": {
          "base_uri": "https://localhost:8080/"
        },
        "id": "PRrTOPHR9l--",
        "outputId": "392df06c-46fe-476e-eaaf-235562b6e006"
      },
      "source": [
        "a = [1, 2, 3, 4, 5] #[]안에 값을 담아서 생성\n",
        "print(a)"
      ],
      "execution_count": 55,
      "outputs": [
        {
          "output_type": "stream",
          "name": "stdout",
          "text": [
            "[1, 2, 3, 4, 5]\n"
          ]
        }
      ]
    },
    {
      "cell_type": "code",
      "metadata": {
        "colab": {
          "base_uri": "https://localhost:8080/"
        },
        "id": "wCYpvv4e90Eu",
        "outputId": "9dd42073-5994-4694-e4fc-83c737708722"
      },
      "source": [
        "b = ['컴네', 'A', '1학년',10, 20, [2, 3]]\n",
        "print(b)"
      ],
      "execution_count": 37,
      "outputs": [
        {
          "output_type": "stream",
          "name": "stdout",
          "text": [
            "['컴네', 'A', '1학년', 10, 20, [2, 3]]\n"
          ]
        }
      ]
    },
    {
      "cell_type": "code",
      "metadata": {
        "colab": {
          "base_uri": "https://localhost:8080/"
        },
        "id": "o7y0zXz6-FH2",
        "outputId": "bcc783cb-57ba-41f3-b3fa-6a634357d199"
      },
      "source": [
        "c = \"hello comnet A!\"\n",
        "d = list(c) #list()함수로 리스트 생성\n",
        "# 다른 타입(문자열)을 리스트로 변환할 때 사용 가능 = \"hello comnet A!\"\n",
        "\n",
        "e = c.split() #문자열의 공백 기준으로 리스트를 생성\n",
        "f = c.split('l') #구분자(매개변수) 기준\n",
        "\n",
        "print(d)\n",
        "print(e)\n",
        "print(f)"
      ],
      "execution_count": 8,
      "outputs": [
        {
          "output_type": "stream",
          "name": "stdout",
          "text": [
            "['h', 'e', 'l', 'l', 'o', ' ', 'c', 'o', 'm', 'n', 'e', 't', ' ', 'A', '!']\n",
            "['hello', 'comnet', 'A!']\n",
            "['he', '', 'o comnet A!']\n"
          ]
        }
      ]
    },
    {
      "cell_type": "markdown",
      "metadata": {
        "id": "XCx52O6p__UY"
      },
      "source": [
        "### **리스트 indexing**\n",
        "- [] 연산자를 이용해 항목을 가져온다.\n",
        "- [i]:i번째 원소를 반환하되 음수라면 마지막 원소에서부터 시작한다."
      ]
    },
    {
      "cell_type": "code",
      "metadata": {
        "colab": {
          "base_uri": "https://localhost:8080/"
        },
        "id": "bgeIwMiZAvYO",
        "outputId": "bbeaebbe-6c66-4001-8e19-251fadae42b5"
      },
      "source": [
        "g = [1,2,3,4,5,6,7,8,9,10]\n",
        "print(g[0], g[2])\n",
        "print(g[-1],g[-3],g[-10])\n",
        "print(g[9])"
      ],
      "execution_count": 18,
      "outputs": [
        {
          "output_type": "stream",
          "name": "stdout",
          "text": [
            "1 3\n",
            "10 8 1\n",
            "10\n"
          ]
        }
      ]
    },
    {
      "cell_type": "code",
      "metadata": {
        "colab": {
          "base_uri": "https://localhost:8080/"
        },
        "id": "7QDNwGW-BWqo",
        "outputId": "9e6cc85d-2133-4bca-8ee0-6103b1e22590"
      },
      "source": [
        "#인덱스 접근 후 값을 업데이트\n",
        "h = c.replace('l','w')\n",
        "i = 'j' +c[1:]\n",
        "print(h)\n",
        "print(i)\n",
        "\n",
        "g[0] = 100\n",
        "g[-1] = 90\n",
        "print(g)"
      ],
      "execution_count": 23,
      "outputs": [
        {
          "output_type": "stream",
          "name": "stdout",
          "text": [
            "hewwo comnet A!\n",
            "jello comnet A!\n",
            "[100, 2, 3, 4, 5, 6, 7, 8, 9, 90]\n"
          ]
        }
      ]
    },
    {
      "cell_type": "markdown",
      "metadata": {
        "id": "AIE0A_Q2N9Tn"
      },
      "source": [
        "### **리스트 slicing**\n",
        "- 슬라이싱 결과 역시 리스트\n",
        "- 문자열과 동일하게 동작"
      ]
    },
    {
      "cell_type": "code",
      "metadata": {
        "colab": {
          "base_uri": "https://localhost:8080/"
        },
        "id": "oRSQZJ71OF2G",
        "outputId": "acfdbb56-7a89-4dac-f124-3082c8f23665"
      },
      "source": [
        "g = [1,2,3,4,5,6,7,8,9,10]\n",
        "\n",
        "print(g[3:7])\n",
        "print(g[:7])\n",
        "print(g[3:])\n",
        "print(g[:])\n",
        "print(g[1:7:2])"
      ],
      "execution_count": 29,
      "outputs": [
        {
          "output_type": "stream",
          "name": "stdout",
          "text": [
            "[4, 5, 6, 7]\n",
            "[1, 2, 3, 4, 5, 6, 7]\n",
            "[4, 5, 6, 7, 8, 9, 10]\n",
            "[1, 2, 3, 4, 5, 6, 7, 8, 9, 10]\n",
            "[2, 4, 6]\n"
          ]
        }
      ]
    },
    {
      "cell_type": "markdown",
      "metadata": {
        "id": "dpIlAhXFPAZP"
      },
      "source": [
        "### **리스트 멤버 함수**\n",
        "- 생성된 리스트에 동작하는 함수\n",
        "- append() : 리스트 끝에 항목 추가\n",
        "- extend() : 리스트를 연장(+=)\n",
        "- insert() : 원하는 위치에 추가 가능 (위치,아이템)\n",
        "\n",
        "- remove() : 값으로 항목을 삭제\n",
        "- pop() : 지우고자 하는 인덱스의 아이템을 반환 후 삭제\n",
        "\n",
        "- index() : 찾고자하는 값의 인덱스를 반환"
      ]
    },
    {
      "cell_type": "code",
      "metadata": {
        "colab": {
          "base_uri": "https://localhost:8080/"
        },
        "id": "8YXdbkCNPVj3",
        "outputId": "b8e6f76b-5d08-495b-8447-d3b1042fbd69"
      },
      "source": [
        "a.append(10)\n",
        "print(a)\n"
      ],
      "execution_count": 56,
      "outputs": [
        {
          "output_type": "stream",
          "name": "stdout",
          "text": [
            "[1, 2, 3, 4, 5, 10]\n"
          ]
        }
      ]
    },
    {
      "cell_type": "code",
      "metadata": {
        "colab": {
          "base_uri": "https://localhost:8080/"
        },
        "id": "jXHDUQ7NQiZ_",
        "outputId": "8825a6c4-d370-4ff7-835d-71a00447ecfb"
      },
      "source": [
        "j = [11,12,13,14,15]\n",
        "#a.extend(j)\n",
        "a += j #extend로 동작\n",
        "print(a)"
      ],
      "execution_count": 57,
      "outputs": [
        {
          "output_type": "stream",
          "name": "stdout",
          "text": [
            "[1, 2, 3, 4, 5, 10, 11, 12, 13, 14, 15]\n"
          ]
        }
      ]
    },
    {
      "cell_type": "code",
      "metadata": {
        "colab": {
          "base_uri": "https://localhost:8080/"
        },
        "id": "NxiUNiK6RBJX",
        "outputId": "3aa09ddf-ca85-4450-ae80-19cbfd27d3a1"
      },
      "source": [
        "a.insert(5,20)\n",
        "print(a)"
      ],
      "execution_count": 58,
      "outputs": [
        {
          "output_type": "stream",
          "name": "stdout",
          "text": [
            "[1, 2, 3, 4, 5, 20, 10, 11, 12, 13, 14, 15]\n"
          ]
        }
      ]
    },
    {
      "cell_type": "code",
      "metadata": {
        "colab": {
          "base_uri": "https://localhost:8080/"
        },
        "id": "g6kRbZzwRHZm",
        "outputId": "0dcfc38a-083b-4878-ce1a-10b51eb705d1"
      },
      "source": [
        "a.remove(20)\n",
        "print(a)"
      ],
      "execution_count": 59,
      "outputs": [
        {
          "output_type": "stream",
          "name": "stdout",
          "text": [
            "[1, 2, 3, 4, 5, 10, 11, 12, 13, 14, 15]\n"
          ]
        }
      ]
    },
    {
      "cell_type": "code",
      "metadata": {
        "colab": {
          "base_uri": "https://localhost:8080/"
        },
        "id": "4G86Mve0RktW",
        "outputId": "ecf7af2a-9447-4ffd-91fe-919dd4365a6f"
      },
      "source": [
        "k = a.pop(0)\n",
        "print(a)\n",
        "print(k)"
      ],
      "execution_count": 62,
      "outputs": [
        {
          "output_type": "stream",
          "name": "stdout",
          "text": [
            "[2, 3, 4, 5, 11, 13, 14, 15]\n",
            "1\n"
          ]
        }
      ]
    },
    {
      "cell_type": "code",
      "metadata": {
        "colab": {
          "base_uri": "https://localhost:8080/"
        },
        "id": "VlpLTQoXXQgh",
        "outputId": "3709e884-f5de-4c76-f690-1d058e316d10"
      },
      "source": [
        "a = [2, 6, 7, 9, 10]\n",
        "a.index(7)"
      ],
      "execution_count": 63,
      "outputs": [
        {
          "output_type": "execute_result",
          "data": {
            "text/plain": [
              "2"
            ]
          },
          "metadata": {},
          "execution_count": 63
        }
      ]
    },
    {
      "cell_type": "markdown",
      "metadata": {
        "id": "GFJ0BhVyXZ4w"
      },
      "source": [
        "### **in 키워드**\n",
        "- 리스트 내에 해당 값이 존재하는지\n",
        "- True, False 중 한가지로 반환\n",
        "- 값 in [list]"
      ]
    },
    {
      "cell_type": "code",
      "metadata": {
        "colab": {
          "base_uri": "https://localhost:8080/"
        },
        "id": "tlxbya0iXotW",
        "outputId": "c8d0495f-93f3-413c-c3ce-b9bee72ee582"
      },
      "source": [
        "l = [1,2,3,4,5,6,7]\n",
        "m = 5\n",
        "n = 10\n",
        "o = m in l\n",
        "\n",
        "print(o)\n",
        "print(n in l)\n"
      ],
      "execution_count": 66,
      "outputs": [
        {
          "output_type": "stream",
          "name": "stdout",
          "text": [
            "True\n",
            "False\n"
          ]
        }
      ]
    },
    {
      "cell_type": "markdown",
      "metadata": {
        "id": "usdaurQyZG-A"
      },
      "source": [
        "### **list 정렬**\n",
        "- sort() : 리스트 자체를 내부적으로 정렬\n",
        "- sorted() : 정렬된 리스트의 복사본을 반환"
      ]
    },
    {
      "cell_type": "code",
      "metadata": {
        "colab": {
          "base_uri": "https://localhost:8080/"
        },
        "id": "-6pEeudWZLb4",
        "outputId": "38c7c09c-56e2-4b41-b445-9de0cb9090f4"
      },
      "source": [
        "p = [9, 10, 23, 1, 2, 45, 2, 35, 123, 31, 6]\n",
        "q = sorted(p)\n",
        "print(p)\n",
        "\n",
        "p.sort(reverse=True)\n",
        "print(p)\n",
        "print(q)"
      ],
      "execution_count": 72,
      "outputs": [
        {
          "output_type": "stream",
          "name": "stdout",
          "text": [
            "[9, 10, 23, 1, 2, 45, 2, 35, 123, 31, 6]\n",
            "[123, 45, 35, 31, 23, 10, 9, 6, 2, 2, 1]\n",
            "[1, 2, 2, 6, 9, 10, 23, 31, 35, 45, 123]\n"
          ]
        }
      ]
    },
    {
      "cell_type": "markdown",
      "metadata": {
        "id": "WW3OpRRNasVI"
      },
      "source": [
        "## **튜플(Tuple)**\n",
        "- 리스트와 같이 여러 개의 값을 갖는 데이터 컬렉션 타입\n",
        "- 생성 후 불변"
      ]
    },
    {
      "cell_type": "code",
      "metadata": {
        "id": "7NNsjlvxbAyX"
      },
      "source": [
        "r = [1,2,3]\n",
        "s = (1,2,3)\n",
        "\n",
        "print(type(r))\n",
        "print(type(s))\n",
        "\n",
        "r[0]= 100\n",
        "print(r)\n",
        "#s[0] = 100 오류!\n",
        "#print(s)"
      ],
      "execution_count": null,
      "outputs": []
    },
    {
      "cell_type": "code",
      "metadata": {
        "colab": {
          "base_uri": "https://localhost:8080/"
        },
        "id": "GM4lBB5hbqYo",
        "outputId": "a8a39ae2-b289-40c3-88ec-566849db8496"
      },
      "source": [
        "t,u,v,w = 10,20,30,40\n",
        "print(t,u,v,w)"
      ],
      "execution_count": 73,
      "outputs": [
        {
          "output_type": "stream",
          "name": "stdout",
          "text": [
            "10 20 30 40\n"
          ]
        }
      ]
    },
    {
      "cell_type": "code",
      "metadata": {
        "colab": {
          "base_uri": "https://localhost:8080/"
        },
        "id": "Q1bpNIoCb6nw",
        "outputId": "d67989c5-da84-448d-b503-8f6910dbd0b6"
      },
      "source": [
        "x = 5\n",
        "y = 4\n",
        "\n",
        "#문제! x,y의 값을 교환하시오.\n",
        "#temp = x\n",
        "#x = y\n",
        "#y = temp\n",
        "print(x,y)\n",
        "x, y = y, x\n",
        "print(x, y)"
      ],
      "execution_count": 76,
      "outputs": [
        {
          "output_type": "stream",
          "name": "stdout",
          "text": [
            "5 4\n",
            "4 5\n"
          ]
        }
      ]
    }
  ]
}