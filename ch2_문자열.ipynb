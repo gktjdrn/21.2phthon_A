{
  "nbformat": 4,
  "nbformat_minor": 0,
  "metadata": {
    "colab": {
      "name": "Untitled2.ipynb",
      "provenance": [],
      "authorship_tag": "ABX9TyMQsLP6RfXJGXN/36g8RKzr",
      "include_colab_link": true
    },
    "kernelspec": {
      "name": "python3",
      "display_name": "Python 3"
    },
    "language_info": {
      "name": "python"
    }
  },
  "cells": [
    {
      "cell_type": "markdown",
      "metadata": {
        "id": "view-in-github",
        "colab_type": "text"
      },
      "source": [
        "<a href=\"https://colab.research.google.com/github/gktjdrn/21.2phthon_A/blob/main/ch2_%EB%AC%B8%EC%9E%90%EC%97%B4.ipynb\" target=\"_parent\"><img src=\"https://colab.research.google.com/assets/colab-badge.svg\" alt=\"Open In Colab\"/></a>"
      ]
    },
    {
      "cell_type": "markdown",
      "metadata": {
        "id": "lSkneYwnEH_s"
      },
      "source": [
        "##**학습목표**\n",
        "\n",
        "문자열(str)타입을 이해하기 "
      ]
    },
    {
      "cell_type": "markdown",
      "metadata": {
        "id": "KIFv3hkPEnIb"
      },
      "source": [
        "##**문자열(String)**\n",
        "- 여러 개의 문자를 순서대로 나열한 것\n",
        "- 문자열은 '(작은 따옴표)' 혹은 \"(큰 따옴표)\" 사이에 문자를 넣어서 생성\n",
        "- 문자열 자체에 \", '가 있는 경우, 반대의 기호를 생성"
      ]
    },
    {
      "cell_type": "code",
      "metadata": {
        "colab": {
          "base_uri": "https://localhost:8080/"
        },
        "id": "mntRbzriE4Vv",
        "outputId": "5b1dc487-21e8-4075-c060-aface3dcc367"
      },
      "source": [
        "a = \"Hello world!\"\n",
        "b = ' \"Hello\" world!'\n",
        "\n",
        "print(a)\n",
        "print(b)"
      ],
      "execution_count": 3,
      "outputs": [
        {
          "output_type": "stream",
          "text": [
            "Hello world!  'Hello' world!\n"
          ],
          "name": "stdout"
        }
      ]
    },
    {
      "cell_type": "markdown",
      "metadata": {
        "id": "KpbZF813Fda7"
      },
      "source": [
        "###**이스케이프(escape) 문자**\n",
        "\n",
        "- 문자열 내의 문자의 의미를 달리하여 특정한 효과\n",
        "- Enter, tab\n",
        "\n",
        "- `\\n` : Enter,줄바꿈\n",
        "- `\\t` : tap"
      ]
    },
    {
      "cell_type": "code",
      "metadata": {
        "colab": {
          "base_uri": "https://localhost:8080/"
        },
        "id": "OswCgrvdGUHn",
        "outputId": "808e0db9-02dd-41de-f549-e0d4a9c016c4"
      },
      "source": [
        "print(\"안녕하세요, \\n 제 이름은 \\t 하성구 입니다. \\n 직업은 \\t학생 입니다.\")"
      ],
      "execution_count": 5,
      "outputs": [
        {
          "output_type": "stream",
          "text": [
            "안녕하세요, \n",
            " 제 이름은 \t 하성구 입니다. \n",
            " 직업은 \t학생 입니다.\n"
          ],
          "name": "stdout"
        }
      ]
    },
    {
      "cell_type": "markdown",
      "metadata": {
        "id": "o8C0WyVfHZif"
      },
      "source": [
        "## **문자열의 인덱스(index) 및 추출**\n",
        "\n",
        "- 문자열의 각 문자는 순서가 있음 : `인덱스`\n",
        "- 인덱스 표현은? []\n",
        "- 첫번째 문자부터 마지막까지 차례대로 순서를 가짐\n",
        "- 시작은 0! (1 X)"
      ]
    },
    {
      "cell_type": "code",
      "metadata": {
        "colab": {
          "base_uri": "https://localhost:8080/"
        },
        "id": "KMve9qkPHxQX",
        "outputId": "060a6b00-d710-4d6e-cf3d-7e07d6d9607a"
      },
      "source": [
        "a = \"Hello World!\"# 번호는 0번~11번까지, 길이는 12\n",
        "print(a[0], a[4], a[5])"
      ],
      "execution_count": 34,
      "outputs": [
        {
          "output_type": "stream",
          "text": [
            "H o  \n"
          ],
          "name": "stdout"
        }
      ]
    },
    {
      "cell_type": "markdown",
      "metadata": {
        "id": "SfvM94BFIUCk"
      },
      "source": [
        "### **-1 인덱스**\n",
        "- 다른 언어와 달리 python은 음수의 인덱스를 지원\n",
        "- -1이 가장 마지막 인덱스, -2는 마지막에서 두번째 인덱스"
      ]
    },
    {
      "cell_type": "code",
      "metadata": {
        "colab": {
          "base_uri": "https://localhost:8080/"
        },
        "id": "GhnwDQA1ImFL",
        "outputId": "d57abab8-0c34-45d2-f471-a51b25af5a06"
      },
      "source": [
        "#a = \"Hello World!\"\n",
        "\n",
        "print(a[-1], a[-3], a[-12]) #a[12]부터, a[13]부터는 범위를 벗어나서 에러!"
      ],
      "execution_count": 14,
      "outputs": [
        {
          "output_type": "stream",
          "text": [
            "! l H\n"
          ],
          "name": "stdout"
        }
      ]
    },
    {
      "cell_type": "markdown",
      "metadata": {
        "id": "O3z5SKb8J80L"
      },
      "source": [
        "#### **문자열 슬라이싱(slicing)**\n",
        "- 인덱스로 추출할 때는 한 글자만 추출할 수 있는 반면에 슬라이싱은 부분 문자열을 추출할 수 있다.\n",
        "- [시작:끝]과 같이 명시하여 해당 부분 문자를 추출\n",
        "- 시작이나 끝이 생략되어 있다면,0부터 혹은 끝까지로 간주해 추출"
      ]
    },
    {
      "cell_type": "code",
      "metadata": {
        "colab": {
          "base_uri": "https://localhost:8080/"
        },
        "id": "Vx09Kye2Kfwl",
        "outputId": "be78f234-575c-4825-b850-923751418b57"
      },
      "source": [
        "#a = \"Hello World!\"\n",
        "\n",
        "print(a[3:10])\n",
        "print(a[:10])\n",
        "print(a[3:])\n",
        "print(a[:])"
      ],
      "execution_count": 16,
      "outputs": [
        {
          "output_type": "stream",
          "text": [
            "lo Worl\n",
            "Hello Worl\n",
            "lo World!\n",
            "Hello World!\n"
          ],
          "name": "stdout"
        }
      ]
    },
    {
      "cell_type": "markdown",
      "metadata": {
        "id": "X_DqWwHkK8Lp"
      },
      "source": [
        "#### **문자열 내장 함수**\n",
        "- 문자열에 여러가지 기능을 제공\n"
      ]
    },
    {
      "cell_type": "code",
      "metadata": {
        "colab": {
          "base_uri": "https://localhost:8080/"
        },
        "id": "EnHAsQR-LDcO",
        "outputId": "c17a5e74-8454-4684-9691-a49b608f1cdb"
      },
      "source": [
        "#a = \"Hello World!\"\n",
        "a.upper()\n",
        "a.lower()\n",
        "a.replace('H', 'j')\n",
        "a.replace('ello', 'i')\n",
        "print(len(a))\n",
        "print(a.count('i'))\n",
        "print(a)\n",
        "print(a.find('w'))\n",
        "print(a.index('W'))\n",
        "\n",
        "b='!'.join(a)\n",
        "print(b)"
      ],
      "execution_count": 37,
      "outputs": [
        {
          "output_type": "stream",
          "text": [
            "12\n",
            "0\n",
            "Hello World!\n",
            "-1\n",
            "6\n",
            "H!e!l!l!o! !W!o!r!l!d!!\n"
          ],
          "name": "stdout"
        }
      ]
    },
    {
      "cell_type": "markdown",
      "metadata": {
        "id": "zUMbb_o8SyUD"
      },
      "source": [
        "##**format**\n",
        "- 문자열 내의 특정 값을 변수로부터 초기화하여 동적으로 문자열을 생성"
      ]
    },
    {
      "cell_type": "code",
      "metadata": {
        "colab": {
          "base_uri": "https://localhost:8080/",
          "height": 53
        },
        "id": "FDuPYKS4S79-",
        "outputId": "e808a56c-5e14-4a59-a2c7-75e81f9c155d"
      },
      "source": [
        "temp = 27\n",
        "per = 80\n",
        "\n",
        "a ='현재 기온은 {}도이고, 강수 확률은 {}%입니다.'.format(temp,per)\n",
        "print(a)\n",
        "cla = 3\n",
        "#b =\n",
        "f'현재 프로그래밍 시간은 {cla}교시다.'"
      ],
      "execution_count": 26,
      "outputs": [
        {
          "output_type": "stream",
          "text": [
            "현재 기온은 27도이고, 강수 확률은 80%입니다.\n"
          ],
          "name": "stdout"
        },
        {
          "output_type": "execute_result",
          "data": {
            "application/vnd.google.colaboratory.intrinsic+json": {
              "type": "string"
            },
            "text/plain": [
              "'현재 프로그래밍 시간은 3교시다.'"
            ]
          },
          "metadata": {},
          "execution_count": 26
        }
      ]
    },
    {
      "cell_type": "markdown",
      "metadata": {
        "id": "GwaLbYpkVJMN"
      },
      "source": [
        "#### **split**\n",
        "- 문자열을 특정한 문자로 구분하여 치환"
      ]
    },
    {
      "cell_type": "code",
      "metadata": {
        "colab": {
          "base_uri": "https://localhost:8080/"
        },
        "id": "1AcVY4GHVVON",
        "outputId": "9740d1b4-0928-44e7-a481-1cb8093cf4e5"
      },
      "source": [
        "d = 'what a wonderful day! nice weather.'\n",
        "a.split('w')"
      ],
      "execution_count": 32,
      "outputs": [
        {
          "output_type": "execute_result",
          "data": {
            "text/plain": [
              "['', 'hat a ', 'onderful day! nice ', 'eather.']"
            ]
          },
          "metadata": {},
          "execution_count": 32
        }
      ]
    }
  ]
}